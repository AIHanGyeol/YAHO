{
 "cells": [
  {
   "cell_type": "code",
   "execution_count": 2,
   "metadata": {},
   "outputs": [],
   "source": [
    "import cv2\n",
    "import numpy as np\n",
    "import insightface\n",
    "from insightface.app import FaceAnalysis\n",
    "from insightface.data import get_image as ins_get_image\n",
    "import time\n",
    "import os\n",
    "from numpy import arcsin\n",
    "from numpy.linalg import norm\n",
    "from numpy import dot\n",
    "from scipy.spatial import distance\n",
    "\n",
    "\n",
    "# from sklearn.metrics.pairwise import cosine_similarity"
   ]
  },
  {
   "cell_type": "code",
   "execution_count": 28,
   "metadata": {},
   "outputs": [
    {
     "name": "stdout",
     "output_type": "stream",
     "text": [
      "Applied providers: ['CPUExecutionProvider'], with options: {'CPUExecutionProvider': {}}\n",
      "find model: C:\\Users\\HP/.insightface\\models\\buffalo_l\\1k3d68.onnx landmark_3d_68 ['None', 3, 192, 192] 0.0 1.0\n",
      "Applied providers: ['CPUExecutionProvider'], with options: {'CPUExecutionProvider': {}}\n",
      "find model: C:\\Users\\HP/.insightface\\models\\buffalo_l\\2d106det.onnx landmark_2d_106 ['None', 3, 192, 192] 0.0 1.0\n",
      "Applied providers: ['CPUExecutionProvider'], with options: {'CPUExecutionProvider': {}}\n",
      "find model: C:\\Users\\HP/.insightface\\models\\buffalo_l\\det_10g.onnx detection [1, 3, '?', '?'] 127.5 128.0\n",
      "Applied providers: ['CPUExecutionProvider'], with options: {'CPUExecutionProvider': {}}\n",
      "find model: C:\\Users\\HP/.insightface\\models\\buffalo_l\\genderage.onnx genderage ['None', 3, 96, 96] 0.0 1.0\n",
      "Applied providers: ['CPUExecutionProvider'], with options: {'CPUExecutionProvider': {}}\n",
      "find model: C:\\Users\\HP/.insightface\\models\\buffalo_l\\w600k_r50.onnx recognition ['None', 3, 112, 112] 127.5 127.5\n",
      "set det-size: (640, 640)\n"
     ]
    },
    {
     "data": {
      "text/plain": [
       "True"
      ]
     },
     "execution_count": 28,
     "metadata": {},
     "output_type": "execute_result"
    }
   ],
   "source": [
    "app = FaceAnalysis(providers=[ 'CPUExecutionProvider']) #'CUDAExecutionProvider',\n",
    "app.prepare(ctx_id=0, det_size=(640, 640))\n",
    "\n",
    "# img = ins_get_image('t1')\n",
    "\n",
    "img = cv2.imread(\"C:/Users/HP/Desktop/l_front.jpg\")\n",
    "img = cv2.resize(img , (640,640))\n",
    "faces = app.get(img , max_num=1)\n",
    "embeddings = faces[0]['embedding']\n",
    "rimg = app.draw_on(img, faces)\n",
    "cv2.imwrite(\"./t1_output.jpg\", rimg)"
   ]
  },
  {
   "cell_type": "code",
   "execution_count": 29,
   "metadata": {},
   "outputs": [
    {
     "data": {
      "text/plain": [
       "(3, 512)"
      ]
     },
     "execution_count": 29,
     "metadata": {},
     "output_type": "execute_result"
    }
   ],
   "source": [
    "len(embeddings_list) , len(embeddings)"
   ]
  },
  {
   "cell_type": "code",
   "execution_count": 30,
   "metadata": {},
   "outputs": [
    {
     "data": {
      "text/plain": [
       "0.15384945"
      ]
     },
     "execution_count": 30,
     "metadata": {},
     "output_type": "execute_result"
    }
   ],
   "source": [
    "def cos_sim(A, B):\n",
    "  return dot(A, B)/(norm(A)*norm(B))\n",
    "cos_sim(embeddings_list[0] , embeddings)\n"
   ]
  },
  {
   "cell_type": "code",
   "execution_count": 5,
   "metadata": {},
   "outputs": [
    {
     "name": "stdout",
     "output_type": "stream",
     "text": [
      "Applied providers: ['CPUExecutionProvider'], with options: {'CPUExecutionProvider': {}}\n",
      "find model: C:\\Users\\HP/.insightface\\models\\buffalo_l\\1k3d68.onnx landmark_3d_68 ['None', 3, 192, 192] 0.0 1.0\n",
      "Applied providers: ['CPUExecutionProvider'], with options: {'CPUExecutionProvider': {}}\n",
      "find model: C:\\Users\\HP/.insightface\\models\\buffalo_l\\2d106det.onnx landmark_2d_106 ['None', 3, 192, 192] 0.0 1.0\n",
      "Applied providers: ['CPUExecutionProvider'], with options: {'CPUExecutionProvider': {}}\n",
      "find model: C:\\Users\\HP/.insightface\\models\\buffalo_l\\det_10g.onnx detection [1, 3, '?', '?'] 127.5 128.0\n",
      "Applied providers: ['CPUExecutionProvider'], with options: {'CPUExecutionProvider': {}}\n",
      "find model: C:\\Users\\HP/.insightface\\models\\buffalo_l\\genderage.onnx genderage ['None', 3, 96, 96] 0.0 1.0\n",
      "Applied providers: ['CPUExecutionProvider'], with options: {'CPUExecutionProvider': {}}\n",
      "find model: C:\\Users\\HP/.insightface\\models\\buffalo_l\\w600k_r50.onnx recognition ['None', 3, 112, 112] 127.5 127.5\n",
      "set det-size: (640, 640)\n"
     ]
    }
   ],
   "source": [
    "# For webcam input:\n",
    "cap = cv2.VideoCapture(0)\n",
    "\n",
    "app = FaceAnalysis(providers=[ 'CPUExecutionProvider']) #'CUDAExecutionProvider',\n",
    "app.prepare(ctx_id=0, det_size=(640, 640))\n",
    "\n",
    "start_time = int()\n",
    "count_time = 0\n",
    "count = 1\n",
    "embeddings_list = list()\n",
    "face_landmark_list = list()\n",
    "user_name = 'LeeHanGyeol'\n",
    "\n",
    "texts = ['정면을 보고 S 키를 눌러주세요.' , '오른쪽으로 얼굴을 돌리고 S를 눌러주세요.' , '왼쪽으로 얼굴을 돌리고 S를 눌러주세요.']\n",
    "\n",
    "\n",
    "if user_name not in os.listdir():\n",
    "  os.mkdir(f'./{user_name}')\n",
    "else:\n",
    "  pass\n",
    "\n",
    "file_path = f'./{user_name}/'\n",
    "\n",
    "while cap.isOpened():\n",
    "  success, image = cap.read()\n",
    "\n",
    "  if not success:\n",
    "    print(\"Ignoring empty camera frame.\")\n",
    "    continue\n",
    "  image = cv2.resize(image , (640,640))\n",
    "\n",
    "  if count_time == 0:\n",
    "    start_time = int(time.time())\n",
    "  try:\n",
    "      if start_time + count_time == int(time.time()):\n",
    "\n",
    "          faces = app.get(image , max_num=1)\n",
    "          face_landmark_list.append(faces[0]['landmark_2d_106'])\n",
    "          embeddings_list.append(faces[0]['embedding'])\n",
    "          rimg = app.draw_on(image, faces)\n",
    "          cv2.imwrite( f\"{file_path}{user_name}{count}.jpg\", rimg)\n",
    "          count_time += 10      \n",
    "          count += 1\n",
    "  except:\n",
    "      print('error')  \n",
    "\n",
    "  cv2.imshow('MediaPipe Face Mesh', cv2.flip(image, 1))\n",
    "  if cv2.waitKey(5) & 0xFF == 27:\n",
    "    cv2.destroyAllWindows()\n",
    "    break\n",
    "cap.release()"
   ]
  },
  {
   "cell_type": "code",
   "execution_count": 19,
   "metadata": {},
   "outputs": [
    {
     "data": {
      "text/plain": [
       "19.62200164794922"
      ]
     },
     "execution_count": 19,
     "metadata": {},
     "output_type": "execute_result"
    }
   ],
   "source": [
    "def cos_sim(A, B):\n",
    "  return dot(A, B)/(norm(A)*norm(B))\n",
    "\n",
    "cos_sim()"
   ]
  },
  {
   "cell_type": "code",
   "execution_count": 14,
   "metadata": {},
   "outputs": [
    {
     "data": {
      "text/plain": [
       "array([ 1.13020134e+00,  1.87042654e+00, -9.62529361e-01, -3.89046252e-01,\n",
       "       -3.97923321e-01, -1.16043043e+00, -3.35071832e-01,  1.21931806e-01,\n",
       "       -7.82600164e-01,  7.53207207e-01,  4.41418201e-01, -3.91088635e-01,\n",
       "       -1.40403807e+00,  9.37047184e-01, -1.23505914e+00,  1.36427641e+00,\n",
       "        5.17026067e-01,  2.61592716e-02, -9.66342032e-01, -2.50442088e-01,\n",
       "        1.28616095e+00,  4.40967262e-01,  1.07511938e+00, -1.10808432e+00,\n",
       "       -6.80812895e-01, -1.10813156e-01, -7.34821260e-02,  3.71463001e-02,\n",
       "       -5.83965719e-01,  1.07458323e-01, -1.48519325e+00, -8.55560303e-01,\n",
       "       -5.34027040e-01,  1.29850483e+00, -7.73455977e-01, -3.07033300e-01,\n",
       "       -9.82392430e-01, -8.78617048e-01, -1.78139210e-01, -8.68641615e-01,\n",
       "       -8.40019345e-01, -1.03459828e-01, -1.79914415e+00,  2.41602153e-01,\n",
       "       -4.92181808e-01,  1.80602893e-01, -1.10872018e+00,  2.37855360e-01,\n",
       "       -1.10504076e-01, -1.05742179e-02, -6.41355366e-02, -6.16850033e-02,\n",
       "        2.28546321e-01,  4.70776618e-01,  9.97793913e-01,  2.12040210e+00,\n",
       "        8.41652751e-01, -1.71554089e+00,  4.58800405e-01, -7.61817336e-01,\n",
       "        1.02986380e-01, -1.71943188e-01,  1.05365014e+00, -4.01814491e-01,\n",
       "       -2.28995577e-01,  5.21202505e-01, -1.98691517e-01,  1.51885474e+00,\n",
       "       -1.76683748e+00,  5.92020527e-02,  1.32398105e+00, -1.00569761e+00,\n",
       "        1.00309765e+00, -4.11356091e-01, -7.80074239e-01, -1.83336988e-01,\n",
       "        4.16126609e-01,  1.72234941e+00,  2.35203013e-01,  1.22753763e+00,\n",
       "        7.75040150e-01,  3.83803695e-01, -5.01442015e-01, -1.06184590e+00,\n",
       "        1.16967654e+00, -4.84702229e-01,  5.69734797e-02, -4.33307946e-01,\n",
       "       -2.34968245e-01, -2.05909818e-01, -1.27730861e-01,  1.61718106e+00,\n",
       "        6.22338504e-02,  1.64715219e+00,  1.51775241e+00,  2.57610655e+00,\n",
       "       -1.31333661e+00,  7.11297035e-01,  1.65714598e+00, -3.54919642e-01,\n",
       "       -4.99322712e-01,  3.95948410e-01,  3.19421500e-01, -5.24743021e-01,\n",
       "       -6.18051142e-02, -6.31855547e-01, -3.28116387e-01, -7.58907259e-01,\n",
       "        7.11972237e-01, -2.06866607e-01,  3.79670620e-01,  2.05319285e+00,\n",
       "        1.90604699e+00,  5.86561561e-01, -2.88371503e-01, -5.51468134e-01,\n",
       "        1.12383008e+00,  2.06270963e-01,  1.63142204e+00,  7.71099150e-01,\n",
       "        6.94106221e-01,  2.16555405e+00, -4.49463040e-01,  1.48731947e+00,\n",
       "        1.36472130e+00,  3.31038177e-01,  5.81316411e-01,  8.98971379e-01,\n",
       "       -6.02057159e-01, -4.06326056e-01, -1.03676760e+00, -8.39188397e-02,\n",
       "       -4.46887434e-01, -6.93302155e-01, -1.09394163e-01, -1.17924094e+00,\n",
       "       -2.05137610e-01,  1.25566387e+00,  1.59712577e+00,  3.31159294e-01,\n",
       "        1.94041634e+00,  1.12110391e-01,  1.64294541e-01, -1.13797212e+00,\n",
       "        1.10647261e+00, -1.57051706e+00,  1.23721838e+00,  7.19588995e-01,\n",
       "        2.16765952e+00, -3.49555373e-01, -7.05999732e-01,  4.29165125e-01,\n",
       "        3.50134745e-02, -1.00841033e+00,  1.19284296e+00,  5.30905128e-01,\n",
       "        1.34934497e+00, -6.99749112e-01, -1.51371166e-01,  1.18759370e+00,\n",
       "        4.15073216e-01, -4.47436213e-01, -2.37107903e-01,  9.64462221e-01,\n",
       "       -4.71283644e-01, -1.21695268e+00, -1.33145237e+00,  1.22447824e+00,\n",
       "       -1.18443318e-01,  3.20851177e-01, -8.48497450e-01,  1.16808653e+00,\n",
       "        7.20909715e-01, -1.66000590e-01,  3.98451686e-01, -1.65461659e-01,\n",
       "        7.62228966e-01, -8.62361789e-01,  1.36922562e+00, -2.17354345e+00,\n",
       "        5.91646552e-01,  8.60759377e-01,  9.35102940e-01, -1.34119308e+00,\n",
       "        1.20093894e+00,  6.38009906e-01,  2.38782674e-01, -1.16367185e+00,\n",
       "       -3.15662861e-01, -2.95933425e-01, -2.09346265e-01, -8.62872422e-01,\n",
       "        4.22010243e-01,  2.18483731e-01, -1.19055271e+00,  7.97743052e-02,\n",
       "        8.24765086e-01, -8.52092505e-01, -1.70146811e+00, -5.25940001e-01,\n",
       "        9.52546537e-01,  1.06502056e+00,  7.70202935e-01, -1.62298656e+00,\n",
       "       -1.05780935e+00,  7.02033699e-01,  3.68576497e-01, -7.40643859e-01,\n",
       "        1.31750202e+00,  7.54471123e-01, -5.26273608e-01, -7.96906710e-01,\n",
       "        1.16625452e+00, -7.32545197e-01, -4.25444007e-01,  1.55324474e-01,\n",
       "       -2.07920814e+00,  1.31716073e+00,  7.53874183e-02, -3.17481965e-01,\n",
       "       -1.56500554e+00,  4.19850826e-01, -2.11797148e-01, -1.31220591e+00,\n",
       "        9.90179121e-01, -7.25646734e-01, -1.35039985e-01, -2.24992365e-01,\n",
       "       -3.15382898e-01,  1.09503198e+00,  7.84024775e-01, -6.84609175e-01,\n",
       "       -4.33162391e-01, -4.04884443e-02,  1.24661827e+00, -1.64977193e+00,\n",
       "        3.28553081e-01,  3.04338008e-01, -7.21877813e-01, -1.74572662e-01,\n",
       "       -4.80727762e-01,  6.18695378e-01,  9.68207896e-01,  6.26405478e-01,\n",
       "       -5.87906778e-01,  2.35598609e-02,  7.55622983e-01, -1.03458941e-01,\n",
       "       -4.68625933e-01,  6.80676460e-01,  2.43893266e-02, -4.06137228e-01,\n",
       "       -2.96685100e-01,  1.06354320e+00, -1.64618564e+00, -2.23392323e-01,\n",
       "        2.30852351e-01, -9.17925656e-01,  1.33656454e+00,  6.43160105e-01,\n",
       "       -7.60312602e-02, -4.22800183e-01,  3.76573235e-01,  6.65065169e-01,\n",
       "       -1.33871031e+00, -1.46871734e+00, -1.45798117e-01,  1.38388503e+00,\n",
       "       -2.79693007e-02,  7.36687481e-01,  1.87322199e+00, -1.30259919e+00,\n",
       "        5.52036643e-01, -5.51986158e-01, -3.70193630e-01, -9.23568830e-02,\n",
       "       -1.27514815e+00,  6.90575182e-01, -2.11635858e-01,  1.23383117e+00,\n",
       "        8.90182912e-01, -8.23262513e-01,  1.96810409e-01, -1.00570604e-01,\n",
       "       -4.57957596e-01,  3.83027792e-01,  3.69054168e-01,  9.21296835e-01,\n",
       "       -2.01988965e-03,  1.54363960e-01,  1.63703299e+00,  9.35206175e-01,\n",
       "        5.91255963e-01, -1.51431370e+00,  5.03583252e-01,  1.36038637e+00,\n",
       "       -7.41094887e-01, -1.12515855e+00, -8.10459316e-01,  2.18960190e+00,\n",
       "       -9.57573950e-01,  1.30725756e-01,  8.05757046e-01, -1.65942836e+00,\n",
       "       -5.93595147e-01,  7.69277155e-01,  2.92180777e-01, -2.17337906e-01,\n",
       "        7.45849729e-01, -8.14381599e-01, -8.70877385e-01, -4.27717656e-01,\n",
       "       -1.05887580e+00, -3.83763574e-02,  3.17055881e-01,  1.58391643e+00,\n",
       "        1.50462878e+00, -5.35323977e-01,  6.45899117e-01,  4.12824154e-01,\n",
       "        2.63338894e-01, -6.27251089e-01,  7.17533827e-01,  1.59733176e+00,\n",
       "        2.79505134e-01, -1.07842967e-01, -1.87281942e+00, -4.18389142e-01,\n",
       "        8.19118023e-01, -1.19951808e+00, -1.71319723e+00, -2.76749972e-02,\n",
       "        2.68843114e-01,  8.86382937e-01, -8.96977246e-01,  6.31978750e-01,\n",
       "       -8.14989388e-01,  5.72938584e-02, -2.36114049e+00,  1.30848810e-01,\n",
       "       -1.10544372e+00,  1.12863672e+00,  4.30542082e-01, -1.23078272e-01,\n",
       "        7.27573931e-01, -2.07901478e+00,  8.22400928e-01, -1.02932739e+00,\n",
       "       -3.86171818e-01, -2.50301152e-01, -3.99724066e-01,  7.63305724e-02,\n",
       "       -1.46237814e+00, -2.07051945e+00, -4.44870114e-01,  1.88757133e+00,\n",
       "       -2.00576591e+00,  7.09958225e-02, -1.98735523e+00, -5.85926414e-01,\n",
       "       -1.60871911e+00, -1.09573615e+00, -6.10849977e-01, -1.22803800e-01,\n",
       "       -1.04355884e+00,  1.87946722e-01, -7.02951327e-02, -2.92459309e-01,\n",
       "       -6.69623613e-01, -7.09079325e-01, -2.12068582e+00,  7.43443370e-02,\n",
       "       -4.46672738e-01,  4.72517580e-01, -3.21487844e-01,  4.17941332e-01,\n",
       "       -1.08238709e+00, -4.76859748e-01,  1.06722391e+00,  9.55779180e-02,\n",
       "       -8.64992559e-01,  7.20188469e-02,  1.92405009e+00, -1.88504803e+00,\n",
       "        2.27900171e+00,  2.10436487e+00,  4.79334056e-01,  1.05769336e+00,\n",
       "        9.69089389e-01, -1.01441360e+00, -2.65449673e-01, -1.30234861e+00,\n",
       "       -1.15801704e+00, -1.23387897e+00, -6.63767934e-01, -1.30202293e-01,\n",
       "       -2.59625793e-01, -1.43862545e-01,  1.33462048e+00,  1.65657103e-02,\n",
       "       -2.37274691e-01, -1.11096501e+00, -4.31710221e-02,  1.40456557e+00,\n",
       "       -2.85388291e-01, -1.37043998e-01, -2.63082564e-01, -8.06976318e-01,\n",
       "       -1.47996366e+00,  4.33348626e-01,  6.14495695e-01, -1.83788681e+00,\n",
       "       -8.01853538e-01, -1.36076793e-01, -1.85727119e-01, -1.02760112e+00,\n",
       "       -6.19648620e-02, -4.34784740e-01, -1.59364414e+00, -1.17265284e+00,\n",
       "       -6.57275498e-01, -5.54874063e-01, -1.67483807e+00,  8.75321031e-01,\n",
       "       -1.26152968e+00, -4.37087417e-01,  8.97879601e-01,  9.97546792e-01,\n",
       "       -4.97674674e-01, -2.51121789e-01, -5.92568815e-01, -6.01267815e-03,\n",
       "       -7.74333552e-02, -8.60234380e-01,  8.57552528e-01, -4.32715386e-01,\n",
       "       -4.38249528e-01, -3.76776695e-01,  4.90722507e-01, -1.43487501e+00,\n",
       "        5.61280072e-01,  3.46727908e-01, -8.71087313e-01,  1.24580121e+00,\n",
       "       -2.62298346e-01, -3.78511339e-01, -2.97589183e-01,  1.48884392e+00,\n",
       "       -5.10053992e-01,  9.70762134e-01, -4.36414361e-01, -1.29863524e+00,\n",
       "        1.01238060e+00, -1.39978659e+00,  5.55287898e-01,  3.01654369e-01,\n",
       "        5.05099654e-01, -1.39974666e+00, -1.35358647e-01, -1.25836003e+00,\n",
       "       -4.49372232e-01, -2.61763573e-01, -5.58346450e-01,  1.36874795e-01,\n",
       "        1.48119962e+00, -5.76156080e-01, -5.59274971e-01,  2.22631916e-02,\n",
       "        6.98811173e-01, -1.02551591e+00, -2.76058793e-01, -2.76712626e-01,\n",
       "       -1.05178702e+00, -9.68153894e-01, -5.35808921e-01, -3.18628460e-01,\n",
       "        7.06080794e-01,  1.38817883e+00,  5.12694478e-01,  8.72159749e-03,\n",
       "        4.46720928e-01,  1.22554258e-01, -3.99013132e-01, -1.70729208e+00,\n",
       "       -1.67716110e+00, -1.42546916e+00,  9.51450109e-01, -1.23930359e+00,\n",
       "       -1.28499722e+00,  4.08134311e-02, -1.37873054e-01, -2.89625287e-01,\n",
       "       -4.91340965e-01, -2.21200988e-01,  2.10536629e-01, -5.88921070e-01,\n",
       "       -1.67615604e+00,  1.48942924e+00, -2.16052651e-01, -1.33630723e-01,\n",
       "       -1.07344770e+00, -1.06433845e+00, -5.44180989e-01,  5.75240195e-01,\n",
       "       -5.66180885e-01,  5.56280836e-03,  5.10047793e-01,  1.93371642e+00,\n",
       "        1.03464253e-01, -1.69902837e+00,  9.82979715e-01,  7.32087433e-01],\n",
       "      dtype=float32)"
      ]
     },
     "execution_count": 14,
     "metadata": {},
     "output_type": "execute_result"
    }
   ],
   "source": [
    "embeddings_list[1]"
   ]
  },
  {
   "cell_type": "code",
   "execution_count": 10,
   "metadata": {},
   "outputs": [
    {
     "data": {
      "text/plain": [
       "3"
      ]
     },
     "execution_count": 10,
     "metadata": {},
     "output_type": "execute_result"
    }
   ],
   "source": [
    "len(embeddings_list)"
   ]
  },
  {
   "cell_type": "code",
   "execution_count": 27,
   "metadata": {},
   "outputs": [
    {
     "name": "stdout",
     "output_type": "stream",
     "text": [
      "Applied providers: ['CPUExecutionProvider'], with options: {'CPUExecutionProvider': {}}\n",
      "find model: C:\\Users\\HP/.insightface\\models\\buffalo_l\\1k3d68.onnx landmark_3d_68 ['None', 3, 192, 192] 0.0 1.0\n",
      "Applied providers: ['CPUExecutionProvider'], with options: {'CPUExecutionProvider': {}}\n",
      "find model: C:\\Users\\HP/.insightface\\models\\buffalo_l\\2d106det.onnx landmark_2d_106 ['None', 3, 192, 192] 0.0 1.0\n",
      "Applied providers: ['CPUExecutionProvider'], with options: {'CPUExecutionProvider': {}}\n",
      "find model: C:\\Users\\HP/.insightface\\models\\buffalo_l\\det_10g.onnx detection [1, 3, '?', '?'] 127.5 128.0\n",
      "Applied providers: ['CPUExecutionProvider'], with options: {'CPUExecutionProvider': {}}\n",
      "find model: C:\\Users\\HP/.insightface\\models\\buffalo_l\\genderage.onnx genderage ['None', 3, 96, 96] 0.0 1.0\n",
      "Applied providers: ['CPUExecutionProvider'], with options: {'CPUExecutionProvider': {}}\n",
      "find model: C:\\Users\\HP/.insightface\\models\\buffalo_l\\w600k_r50.onnx recognition ['None', 3, 112, 112] 127.5 127.5\n",
      "set det-size: (640, 640)\n",
      "right\n",
      "left\n"
     ]
    }
   ],
   "source": [
    "# For webcam input:\n",
    "\n",
    "## S 누르면 입력 받도록.\n",
    "cap = cv2.VideoCapture(0)\n",
    "\n",
    "app = FaceAnalysis(providers=[ 'CPUExecutionProvider']) #'CUDAExecutionProvider',\n",
    "app.prepare(ctx_id=0, det_size=(640, 640))\n",
    "\n",
    "user_name = 'LeeHanGyeol'\n",
    "pos = ['front' , 'right' ,'left']\n",
    "embeddings_list = list()\n",
    "face_landmark = list()\n",
    "face_landmark_list = list()\n",
    "texts = ['Look at the camera & Press button \"S\" to save' , 'Turn your face to the right and press the s key.' , 'Turn your face to the left and press the s key']\n",
    "count = 0\n",
    "\n",
    "if user_name not in os.listdir():\n",
    "  os.mkdir(f'./{user_name}')\n",
    "else:\n",
    "  pass\n",
    "\n",
    "file_path = f'./{user_name}/'\n",
    "\n",
    "while cap.isOpened():\n",
    "  success, image = cap.read()\n",
    "\n",
    "  if not success:\n",
    "    print(\"Ignoring empty camera frame.\")\n",
    "    continue\n",
    "  image = cv2.resize(image , (640,640))\n",
    "  image =  cv2.flip(image, 1)\n",
    "  image = cv2.putText(image, texts[count], (50,50), cv2.FONT_ITALIC, 0.7, (255,0,0), 1)\n",
    "\n",
    "  \n",
    "  key = cv2.waitKey(5)\n",
    "  if key & 0xFF == 115:\n",
    "    faces = app.get(image , max_num=1)\n",
    "    \n",
    "    rimg = app.draw_on(image, faces)\n",
    "    if count == 0:  \n",
    "      cv2.imwrite(f\"{file_path}{user_name}_{pos[count]}.jpg\", rimg)\n",
    "      face_landmark_list.append(faces[0]['landmark_2d_106'])\n",
    "      embeddings_list.append(faces[0]['embedding'])\n",
    "      image += 200\n",
    "      count += 1\n",
    "\n",
    "    elif count == 1:\n",
    "      face_landmark_list.append(faces[0]['landmark_2d_106'])\n",
    "      eye_euclidean = distance.euclidean(face_landmark_list[-1][38] , face_landmark_list[-1][88])\n",
    "      if face_landmark_list[0][86][0] < face_landmark_list[-1][86][0] and eye_euclidean < 50: \n",
    "        cv2.imwrite(f\"{file_path}{user_name}_{pos[count]}.jpg\", rimg)\n",
    "        embeddings_list.append(faces[0]['embedding'])\n",
    "        image += 200\n",
    "        count += 1\n",
    "        print('right')\n",
    "      else:\n",
    "        print('얼굴을 똑바로 돌리십시오.')\n",
    "\n",
    "    elif count == 2: \n",
    "      face_landmark_list.append(faces[0]['landmark_2d_106'])\n",
    "      eye_euclidean = distance.euclidean(face_landmark_list[-1][38] , face_landmark_list[-1][88])\n",
    "      if face_landmark_list[0][86][0] > face_landmark_list[-1][86][0] and eye_euclidean < 50:\n",
    "        cv2.imwrite(f\"{file_path}{user_name}_{pos[count]}.jpg\", rimg)\n",
    "        embeddings_list.append(faces[0]['embedding'])\n",
    "        image += 200\n",
    "        count += 1\n",
    "        print('left')\n",
    "      else:\n",
    "        print('얼굴을 똑바로 돌리십시오.')\n",
    "\n",
    "    if count == 3:\n",
    "      break  \n",
    "\n",
    "  cv2.imshow('MediaPipe Face Mesh',image) # cv2.flip(image, 1)\n",
    "\n",
    "  if key & 0xFF == 27:\n",
    "    cv2.destroyAllWindows()\n",
    "    break\n",
    "\n",
    "cv2.destroyAllWindows()\n",
    "cap.release()"
   ]
  },
  {
   "cell_type": "code",
   "execution_count": 18,
   "metadata": {},
   "outputs": [
    {
     "name": "stdout",
     "output_type": "stream",
     "text": [
      "71.57958221435547\n",
      "25.11652946472168\n",
      "23.78841781616211\n"
     ]
    }
   ],
   "source": [
    "print(distance.euclidean(face_landmark_list[0][38] ,face_landmark_list[0][88])) ##눈을 이용해서 측면 검사. #38 오른눈.   88 왼눈.\n",
    "print(distance.euclidean(face_landmark_list[1][38] ,face_landmark_list[1][88])) ## 눈을 이용해서 검사.\n",
    "print(distance.euclidean(face_landmark_list[2][38] ,face_landmark_list[2][88]))\n"
   ]
  },
  {
   "cell_type": "code",
   "execution_count": 19,
   "metadata": {},
   "outputs": [
    {
     "data": {
      "text/plain": [
       "(array([376.65506, 311.06018], dtype=float32),\n",
       " array([401.5934 , 314.04657], dtype=float32))"
      ]
     },
     "execution_count": 19,
     "metadata": {},
     "output_type": "execute_result"
    }
   ],
   "source": [
    "face_landmark_list[1][38] , face_landmark_list[1][88]"
   ]
  },
  {
   "cell_type": "code",
   "execution_count": 10,
   "metadata": {},
   "outputs": [
    {
     "data": {
      "text/plain": [
       "0"
      ]
     },
     "execution_count": 10,
     "metadata": {},
     "output_type": "execute_result"
    }
   ],
   "source": [
    "len(embeddings_list)"
   ]
  },
  {
   "cell_type": "code",
   "execution_count": 90,
   "metadata": {},
   "outputs": [
    {
     "data": {
      "text/plain": [
       "array([335.7523, 347.3932], dtype=float32)"
      ]
     },
     "execution_count": 90,
     "metadata": {},
     "output_type": "execute_result"
    }
   ],
   "source": [
    "#['bbox', 'kps', 'det_score', 'landmark_3d_68', 'pose', 'landmark_2d_106', 'gender', 'age', 'embedding']"
   ]
  },
  {
   "cell_type": "code",
   "execution_count": 91,
   "metadata": {},
   "outputs": [
    {
     "data": {
      "text/plain": [
       "array([235.92891, 331.79294], dtype=float32)"
      ]
     },
     "execution_count": 91,
     "metadata": {},
     "output_type": "execute_result"
    }
   ],
   "source": [
    "#['bbox', 'kps', 'det_score', 'landmark_3d_68', 'pose', 'landmark_2d_106', 'gender', 'age', 'embedding']"
   ]
  },
  {
   "cell_type": "code",
   "execution_count": 115,
   "metadata": {},
   "outputs": [
    {
     "data": {
      "text/plain": [
       "array([[317.25293, 493.70102],\n",
       "       [247.662  , 335.59567],\n",
       "       [260.09204, 439.6799 ],\n",
       "       [264.50027, 450.70007],\n",
       "       [269.73416, 461.29208],\n",
       "       [276.0785 , 471.07205],\n",
       "       [283.74698, 479.9116 ],\n",
       "       [292.94788, 487.08572],\n",
       "       [304.01224, 491.9114 ],\n",
       "       [246.2804 , 347.03128],\n",
       "       [245.59648, 358.5363 ],\n",
       "       [245.60904, 370.1467 ],\n",
       "       [246.39034, 381.84372],\n",
       "       [248.00577, 393.5171 ],\n",
       "       [250.45543, 405.2234 ],\n",
       "       [253.17743, 416.77713],\n",
       "       [256.3651 , 428.30658],\n",
       "       [389.70197, 331.6208 ],\n",
       "       [382.0425 , 440.9431 ],\n",
       "       [377.09894, 452.22934],\n",
       "       [370.99466, 462.95026],\n",
       "       [363.49542, 472.74924],\n",
       "       [354.3447 , 481.32248],\n",
       "       [343.59232, 488.05573],\n",
       "       [331.23227, 492.4159 ],\n",
       "       [391.755  , 343.50522],\n",
       "       [393.0865 , 355.5601 ],\n",
       "       [393.68146, 367.78204],\n",
       "       [393.51318, 380.04727],\n",
       "       [392.61578, 392.4261 ],\n",
       "       [391.00552, 404.86133],\n",
       "       [388.8848 , 417.08136],\n",
       "       [385.92847, 429.16177],\n",
       "       [281.71344, 346.15204],\n",
       "       [282.22504, 340.8279 ],\n",
       "       [268.20972, 343.61755],\n",
       "       [274.41534, 345.4954 ],\n",
       "       [289.17926, 345.1098 ],\n",
       "       [282.23102, 340.82864],\n",
       "       [296.02548, 343.5078 ],\n",
       "       [281.90002, 336.4419 ],\n",
       "       [274.13885, 338.63828],\n",
       "       [289.81406, 338.11194],\n",
       "       [259.07117, 321.304  ],\n",
       "       [267.8915 , 319.69513],\n",
       "       [277.48584, 318.4162 ],\n",
       "       [297.85797, 320.27213],\n",
       "       [287.7691 , 318.0412 ],\n",
       "       [266.11026, 312.2387 ],\n",
       "       [276.93066, 308.74542],\n",
       "       [298.79446, 313.8371 ],\n",
       "       [288.94348, 309.99252],\n",
       "       [290.30048, 431.74124],\n",
       "       [315.57568, 444.65054],\n",
       "       [302.6784 , 431.20325],\n",
       "       [296.48676, 438.0282 ],\n",
       "       [304.6968 , 442.7597 ],\n",
       "       [329.07428, 431.44983],\n",
       "       [335.72122, 438.40277],\n",
       "       [326.80365, 442.95517],\n",
       "       [315.47888, 431.82404],\n",
       "       [342.69455, 432.11502],\n",
       "       [315.7217 , 426.06235],\n",
       "       [308.17178, 415.04437],\n",
       "       [297.4024 , 421.88055],\n",
       "       [294.07297, 431.28696],\n",
       "       [302.48093, 427.40375],\n",
       "       [323.05444, 415.05853],\n",
       "       [334.4533 , 422.22577],\n",
       "       [338.6294 , 431.64038],\n",
       "       [329.5651 , 427.68744],\n",
       "       [315.59686, 416.84964],\n",
       "       [315.4877 , 336.83313],\n",
       "       [315.3332 , 349.45087],\n",
       "       [315.18216, 361.94107],\n",
       "       [303.19867, 344.63824],\n",
       "       [298.21957, 373.7828 ],\n",
       "       [293.75192, 387.92142],\n",
       "       [300.4322 , 391.11887],\n",
       "       [307.64566, 392.1929 ],\n",
       "       [315.43597, 393.67523],\n",
       "       [328.2089 , 344.2834 ],\n",
       "       [333.42615, 373.7489 ],\n",
       "       [338.46594, 387.95673],\n",
       "       [331.2942 , 391.16852],\n",
       "       [323.62894, 392.38364],\n",
       "       [314.94092, 374.53653],\n",
       "       [351.1166 , 343.66525],\n",
       "       [350.30396, 338.3009 ],\n",
       "       [336.5232 , 342.0068 ],\n",
       "       [343.44565, 343.11926],\n",
       "       [358.55307, 342.47937],\n",
       "       [350.30307, 338.30185],\n",
       "       [364.94482, 340.08524],\n",
       "       [350.3708 , 333.6934 ],\n",
       "       [342.39633, 335.99857],\n",
       "       [358.46957, 335.44876],\n",
       "       [332.02728, 318.90192],\n",
       "       [342.80786, 316.0359 ],\n",
       "       [354.0024 , 315.79172],\n",
       "       [364.60196, 316.75906],\n",
       "       [374.95688, 318.40857],\n",
       "       [330.7935 , 312.42538],\n",
       "       [341.21835, 307.94308],\n",
       "       [354.1303 , 305.9842 ],\n",
       "       [366.32983, 309.106  ]], dtype=float32)"
      ]
     },
     "execution_count": 115,
     "metadata": {},
     "output_type": "execute_result"
    }
   ],
   "source": [
    "face_landmark_list[0]"
   ]
  },
  {
   "cell_type": "code",
   "execution_count": 8,
   "metadata": {},
   "outputs": [
    {
     "ename": "IndexError",
     "evalue": "list index out of range",
     "output_type": "error",
     "traceback": [
      "\u001b[1;31m---------------------------------------------------------------------------\u001b[0m",
      "\u001b[1;31mIndexError\u001b[0m                                Traceback (most recent call last)",
      "Cell \u001b[1;32mIn [8], line 1\u001b[0m\n\u001b[1;32m----> 1\u001b[0m \u001b[39mprint\u001b[39m(distance\u001b[39m.\u001b[39meuclidean(face_landmark_list[\u001b[39m0\u001b[39;49m][\u001b[39m38\u001b[39m] ,face_landmark_list[\u001b[39m0\u001b[39m][\u001b[39m88\u001b[39m])) \u001b[39m##눈을 이용해서 측면 검사. #38 오른눈.   88 왼눈.\u001b[39;00m\n\u001b[0;32m      2\u001b[0m \u001b[39mprint\u001b[39m(distance\u001b[39m.\u001b[39meuclidean(face_landmark_list[\u001b[39m1\u001b[39m][\u001b[39m38\u001b[39m] ,face_landmark_list[\u001b[39m1\u001b[39m][\u001b[39m88\u001b[39m])) \u001b[39m## 눈을 이용해서 검사.\u001b[39;00m\n\u001b[0;32m      3\u001b[0m \u001b[39mprint\u001b[39m(distance\u001b[39m.\u001b[39meuclidean(face_landmark_list[\u001b[39m2\u001b[39m][\u001b[39m38\u001b[39m] ,face_landmark_list[\u001b[39m2\u001b[39m][\u001b[39m88\u001b[39m]))\n",
      "\u001b[1;31mIndexError\u001b[0m: list index out of range"
     ]
    }
   ],
   "source": []
  },
  {
   "cell_type": "code",
   "execution_count": 99,
   "metadata": {},
   "outputs": [
    {
     "name": "stdout",
     "output_type": "stream",
     "text": [
      "[335.7523 347.3932]\n",
      "[235.92891 331.79294]\n",
      "[450.4195 325.8076]\n"
     ]
    }
   ],
   "source": [
    "print(face_list[0][0]['landmark_2d_106'][86])\n",
    "print(face_list[1][0]['landmark_2d_106'][86])\n",
    "print(face_list[2][0]['landmark_2d_106'][86])"
   ]
  },
  {
   "cell_type": "code",
   "execution_count": 106,
   "metadata": {},
   "outputs": [
    {
     "data": {
      "text/plain": [
       "(640, 640, 3)"
      ]
     },
     "execution_count": 106,
     "metadata": {},
     "output_type": "execute_result"
    }
   ],
   "source": [
    "image.shape"
   ]
  },
  {
   "cell_type": "code",
   "execution_count": null,
   "metadata": {},
   "outputs": [],
   "source": []
  },
  {
   "cell_type": "code",
   "execution_count": null,
   "metadata": {},
   "outputs": [],
   "source": []
  },
  {
   "cell_type": "code",
   "execution_count": null,
   "metadata": {},
   "outputs": [],
   "source": []
  },
  {
   "cell_type": "code",
   "execution_count": null,
   "metadata": {},
   "outputs": [],
   "source": []
  },
  {
   "cell_type": "code",
   "execution_count": 2,
   "metadata": {},
   "outputs": [
    {
     "name": "stdout",
     "output_type": "stream",
     "text": [
      "Applied providers: ['CPUExecutionProvider'], with options: {'CPUExecutionProvider': {}}\n",
      "find model: C:\\Users\\HP/.insightface\\models\\buffalo_l\\1k3d68.onnx landmark_3d_68 ['None', 3, 192, 192] 0.0 1.0\n",
      "Applied providers: ['CPUExecutionProvider'], with options: {'CPUExecutionProvider': {}}\n",
      "find model: C:\\Users\\HP/.insightface\\models\\buffalo_l\\2d106det.onnx landmark_2d_106 ['None', 3, 192, 192] 0.0 1.0\n",
      "Applied providers: ['CPUExecutionProvider'], with options: {'CPUExecutionProvider': {}}\n",
      "find model: C:\\Users\\HP/.insightface\\models\\buffalo_l\\det_10g.onnx detection [1, 3, '?', '?'] 127.5 128.0\n",
      "Applied providers: ['CPUExecutionProvider'], with options: {'CPUExecutionProvider': {}}\n",
      "find model: C:\\Users\\HP/.insightface\\models\\buffalo_l\\genderage.onnx genderage ['None', 3, 96, 96] 0.0 1.0\n",
      "Applied providers: ['CPUExecutionProvider'], with options: {'CPUExecutionProvider': {}}\n",
      "find model: C:\\Users\\HP/.insightface\\models\\buffalo_l\\w600k_r50.onnx recognition ['None', 3, 112, 112] 127.5 127.5\n",
      "set det-size: (640, 640)\n",
      "Saved\n"
     ]
    }
   ],
   "source": [
    "# For webcam input:\n",
    "\n",
    "## S 누르면 입력 받도록.\n",
    "cap = cv2.VideoCapture(0)\n",
    "\n",
    "app = FaceAnalysis(providers=[ 'CPUExecutionProvider']) #'CUDAExecutionProvider',\n",
    "app.prepare(ctx_id=0, det_size=(640, 640))\n",
    "\n",
    "\n",
    "embeddings_list = list()\n",
    "face_landmark_list = list()\n",
    "user_name = 'LeeHanGyeol'\n",
    "texts = ['Look at the camera & Press button \"S\" to save' , '오른쪽으로 얼굴을 돌리고 S를 눌러주세요.' , '왼쪽으로 얼굴을 돌리고 S를 눌러주세요.']\n",
    "\n",
    "pos = ['front' , 'right' ,'left']\n",
    "count = 0\n",
    "num = 0\n",
    "\n",
    "\n",
    "if user_name not in os.listdir():\n",
    "  os.mkdir(f'./{user_name}')\n",
    "else:\n",
    "  pass\n",
    "\n",
    "file_path = f'./{user_name}/'\n",
    "\n",
    "while cap.isOpened():\n",
    "  success, image = cap.read()\n",
    "\n",
    "  if not success:\n",
    "    print(\"Ignoring empty camera frame.\")\n",
    "    continue\n",
    "  image = cv2.resize(image , (640,640))\n",
    "  image =  cv2.flip(image, 1)\n",
    "  image = cv2.putText(image, texts[count], (50,50), cv2.FONT_ITALIC, 1, (255,0,0), 2)\n",
    "  \n",
    "  cv2.imshow('MediaPipe Face Mesh',image)\n",
    "\n",
    "  key = cv2.waitKey(5)\n",
    "  \n",
    "  if key == ord('s'):\n",
    "      cv2.imwrite(f'{file_path}/{user_name}{pos[num]}.jpg', image)\n",
    "      num += 1\n",
    "      print('Saved')\n",
    "      continue\n",
    "\n",
    "  elif key & 0xFF == 27:\n",
    "    cv2.destroyAllWindows()\n",
    "    break\n",
    "\n",
    "cap.release()"
   ]
  },
  {
   "cell_type": "code",
   "execution_count": null,
   "metadata": {},
   "outputs": [],
   "source": []
  },
  {
   "cell_type": "code",
   "execution_count": null,
   "metadata": {},
   "outputs": [],
   "source": []
  },
  {
   "cell_type": "code",
   "execution_count": null,
   "metadata": {},
   "outputs": [],
   "source": []
  }
 ],
 "metadata": {
  "kernelspec": {
   "display_name": "Python 3.9.0 ('insightface')",
   "language": "python",
   "name": "python3"
  },
  "language_info": {
   "codemirror_mode": {
    "name": "ipython",
    "version": 3
   },
   "file_extension": ".py",
   "mimetype": "text/x-python",
   "name": "python",
   "nbconvert_exporter": "python",
   "pygments_lexer": "ipython3",
   "version": "3.9.0"
  },
  "orig_nbformat": 4,
  "vscode": {
   "interpreter": {
    "hash": "a77466d374d48809c23a9ce1a60294986b87c87a41e4f39596d222565f020b74"
   }
  }
 },
 "nbformat": 4,
 "nbformat_minor": 2
}
