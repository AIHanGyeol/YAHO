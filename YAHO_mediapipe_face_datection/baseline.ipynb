{
 "cells": [
  {
   "cell_type": "code",
   "execution_count": 2,
   "metadata": {},
   "outputs": [],
   "source": [
    "import os\n",
    "import cv2\n",
    "import mediapipe as mp\n",
    "import time"
   ]
  },
  {
   "cell_type": "code",
   "execution_count": 41,
   "metadata": {},
   "outputs": [],
   "source": [
    "if 'data' not in os.listdir():\n",
    "  os.mkdir('./data')\n",
    "else:\n",
    "  pass\n",
    "\n",
    "start_time = int()\n",
    "mp_face_detection = mp.solutions.face_detection\n",
    "mp_drawing = mp.solutions.drawing_utils\n",
    "\n",
    "camera = 0\n",
    "\n",
    "cap = cv2.VideoCapture(camera)\n",
    "\n",
    "#가로 세로 크기 640으로 고정.\n",
    "cap.set(cv2.CAP_PROP_FRAME_WIDTH, 640) # 가로\n",
    "cap.set(cv2.CAP_PROP_FRAME_HEIGHT, 640) # 세로\n",
    "\n",
    "count_time = 0\n",
    "count = 1\n",
    "\n",
    "user_id = 'user_id'\n",
    "\n",
    "with mp_face_detection.FaceDetection(\n",
    "    model_selection=0, min_detection_confidence=0.5) as face_detection:\n",
    "  while cap.isOpened():\n",
    "    success, image = cap.read()\n",
    "    if not success:\n",
    "      print(\"Ignoring empty camera frame.\")\n",
    "      continue\n",
    "\n",
    "    \n",
    "    image = cv2.resize(image , (640,640))\n",
    "    \n",
    "\n",
    "    x = image.shape[0]\n",
    "    y = image.shape[1]\n",
    "    image = cv2.flip(image, 1)\n",
    "    image.flags.writeable = False\n",
    "    results = face_detection.process(image)\n",
    "\n",
    "\n",
    "    '''박스에 선 그리기.\n",
    "    # xmin = int(results.detections[0].location_data.relative_bounding_box.xmin * x)\n",
    "    # ymin = int(results.detections[0].location_data.relative_bounding_box.ymin * y)\n",
    "    # width = int(results.detections[0].location_data.relative_bounding_box.width * x) + xmin \n",
    "    # height = int(results.detections[0].location_data.relative_bounding_box.height * y) + ymin\n",
    "    # print(xmin , ymin , width , height)\n",
    "    # cv2.line(image,(xmin , ymin) , (width , height) , (0,255,0) ,thickness=3)\n",
    "    '''\n",
    "\n",
    "    \n",
    "    if count_time == 0:\n",
    "      start_time = int(time.time())\n",
    "    try:\n",
    "      if start_time + count_time == int(time.time()):\n",
    "        xmin = int(results.detections[0].location_data.relative_bounding_box.xmin * x)\n",
    "        ymin = int(results.detections[0].location_data.relative_bounding_box.ymin * y)\n",
    "        width = int(results.detections[0].location_data.relative_bounding_box.width * x) + xmin \n",
    "        height = int(results.detections[0].location_data.relative_bounding_box.height * y) + ymin\n",
    "        jj = str(xmin) + ' ' + str(ymin)+ ' ' + str(width) + ' ' +  str(height)\n",
    "        cv2.imwrite(f'./data/{user_id}_{str(count).zfill(4)}.jpg', image)\n",
    "        f = open(f'./data/{user_id}_{str(count).zfill(4)}.txt' , 'w')\n",
    "        f.write(jj)\n",
    "        f.close()\n",
    "        count_time += 10      \n",
    "        count += 1\n",
    "    except:\n",
    "      print('error')  \n",
    "\n",
    "    image.flags.writeable = True\n",
    "    # image = cv2.cvtColor(image, cv2.COLOR_RGB2BGR)\n",
    "    if results.detections:\n",
    "      for detection in results.detections:\n",
    "        mp_drawing.draw_detection(image, detection)\n",
    "    # Flip the image horizontally for a selfie-view display.\n",
    "    cv2.imshow('MediaPipe Face Detection',image)\n",
    "\n",
    "    if count == 1001:\n",
    "      cv2.destroyAllWindows()\n",
    "      break\n",
    "    if cv2.waitKey(5) & 0xFF == 27:  #ESC\n",
    "      cv2.destroyAllWindows()\n",
    "      break\n",
    "cv2.destroyAllWindows()\n",
    "cap.release()"
   ]
  },
  {
   "cell_type": "code",
   "execution_count": null,
   "metadata": {},
   "outputs": [],
   "source": [
    "xmin: 0.4348529875278473\n",
    "ymin: 0.5757677555084229\n",
    "width: 0.20829078555107117\n",
    "height: 0.2082911729812622\n"
   ]
  },
  {
   "cell_type": "code",
   "execution_count": null,
   "metadata": {},
   "outputs": [],
   "source": []
  },
  {
   "cell_type": "code",
   "execution_count": null,
   "metadata": {},
   "outputs": [],
   "source": []
  },
  {
   "cell_type": "code",
   "execution_count": null,
   "metadata": {},
   "outputs": [],
   "source": []
  },
  {
   "cell_type": "code",
   "execution_count": null,
   "metadata": {},
   "outputs": [],
   "source": []
  },
  {
   "cell_type": "code",
   "execution_count": null,
   "metadata": {},
   "outputs": [],
   "source": []
  },
  {
   "cell_type": "code",
   "execution_count": null,
   "metadata": {},
   "outputs": [],
   "source": []
  },
  {
   "cell_type": "code",
   "execution_count": null,
   "metadata": {},
   "outputs": [],
   "source": []
  },
  {
   "cell_type": "code",
   "execution_count": null,
   "metadata": {},
   "outputs": [],
   "source": []
  },
  {
   "cell_type": "code",
   "execution_count": null,
   "metadata": {},
   "outputs": [],
   "source": []
  },
  {
   "cell_type": "code",
   "execution_count": null,
   "metadata": {},
   "outputs": [],
   "source": []
  },
  {
   "cell_type": "code",
   "execution_count": null,
   "metadata": {},
   "outputs": [],
   "source": []
  },
  {
   "cell_type": "code",
   "execution_count": null,
   "metadata": {},
   "outputs": [],
   "source": []
  },
  {
   "cell_type": "code",
   "execution_count": null,
   "metadata": {},
   "outputs": [],
   "source": []
  }
 ],
 "metadata": {
  "kernelspec": {
   "display_name": "Python 3.9.13 ('mediapipe')",
   "language": "python",
   "name": "python3"
  },
  "language_info": {
   "codemirror_mode": {
    "name": "ipython",
    "version": 3
   },
   "file_extension": ".py",
   "mimetype": "text/x-python",
   "name": "python",
   "nbconvert_exporter": "python",
   "pygments_lexer": "ipython3",
   "version": "3.8.0"
  },
  "orig_nbformat": 4,
  "vscode": {
   "interpreter": {
    "hash": "78b7702d676081c752cc1da379e74f8bffc07bbe52b35a20d840d6af8e037d83"
   }
  }
 },
 "nbformat": 4,
 "nbformat_minor": 2
}
